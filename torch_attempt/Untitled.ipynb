{
 "cells": [
  {
   "cell_type": "code",
   "execution_count": 1,
   "id": "17fa133a-34ea-4db5-93ea-04d6d2c1a220",
   "metadata": {},
   "outputs": [
    {
     "name": "stdout",
     "output_type": "stream",
     "text": [
      "[0, 0, 0, 0, 0, 0, 0, 0, 0, 0]\n",
      "[0, 0, 0, 0, 0, 0, 0, 0, 0, 0]\n",
      "[0, 0, 0, 0, 0, 0, 0, 0, 0, 0]\n",
      "[0, 0, 0, 0, 0, 0, 0, 0, 0, 0]\n",
      "[0, 0, 0, 0, 0, 0, 0, 0, 0, 0]\n",
      "[0, 0, 0, 0, 0, 1, 0, 0, 0, 0]\n",
      "[0, 0, 0, 0, 0, 0, 0, 0, 0, 0]\n",
      "[0, 0, 0, 0, 0, 0, 0, 0, 0, 0]\n",
      "[0, 0, 0, 0, 0, 0, -1, 0, 0, 0]\n",
      "[0, 0, 0, 0, 0, 0, 0, 0, 0, 0]\n",
      " \n"
     ]
    }
   ],
   "source": [
    "import torch\n",
    "import numpy\n",
    "import matplotlib.pyplot as plt\n",
    "\n",
    "from environment import Environment\n",
    "from agent import Agent\n",
    "from experiencereplay import ExperienceReplay\n",
    "\n",
    "vs_environment = Environment(grid_size = 10, render_on = True)\n",
    "\n",
    "vs_environment.reset()\n",
    "\n",
    "vs_agent = Agent(grid_size = 10)"
   ]
  },
  {
   "cell_type": "code",
   "execution_count": null,
   "id": "ad0ecdab-d9de-45f4-aec2-60f7b0a733eb",
   "metadata": {},
   "outputs": [],
   "source": [
    "experience_replay = ExperienceReplay(capacity=10000, batch_size=32)\n",
    "\n",
    "episodes = 5000\n",
    "max_steps = 200\n",
    "\n",
    "\n",
    "\n",
    "for episode in range(episodes):\n",
    "\n",
    "    state = vs_environment.reset()\n",
    "    \n",
    "    for step in range(max_steps):\n",
    "        print('Episode: ', episode)\n",
    "        print('Step: ', episode)\n",
    "        print('Epsilon: ', agent.epsilon)\n",
    "\n",
    "        action = vs_gent.get_action(state)\n",
    "        next_state, reward, done = vs_environment.step(action)\n",
    "        experience_replay.add_experience(state, action, reward, next_state, done)\n",
    "\n",
    "        if experience_replay.can_provide_sample():\n",
    "            experiences = experience_replay.sample_batch()\n",
    "            "
   ]
  },
  {
   "cell_type": "code",
   "execution_count": 5,
   "id": "13f6599b-cfe6-4b24-8e44-4a573105b598",
   "metadata": {},
   "outputs": [],
   "source": [
    "location = (torch.tensor([2]), torch.tensor([6]))"
   ]
  },
  {
   "cell_type": "code",
   "execution_count": 11,
   "id": "a0b4fb9e-0f02-4108-a369-b89f2516a25f",
   "metadata": {},
   "outputs": [
    {
     "data": {
      "text/plain": [
       "tensor([0.])"
      ]
     },
     "execution_count": 11,
     "metadata": {},
     "output_type": "execute_result"
    }
   ],
   "source": [
    "vs_environment.grid[location]"
   ]
  },
  {
   "cell_type": "code",
   "execution_count": 8,
   "id": "262b5398-81e0-4d56-a2b5-d481d8b2fe0c",
   "metadata": {},
   "outputs": [
    {
     "data": {
      "text/plain": [
       "tensor([2])"
      ]
     },
     "execution_count": 8,
     "metadata": {},
     "output_type": "execute_result"
    }
   ],
   "source": [
    "torch.randint(low=0, high=10- 1, size=(1,))"
   ]
  },
  {
   "cell_type": "code",
   "execution_count": null,
   "id": "6373bad9-f997-445a-9254-c630335c8d87",
   "metadata": {},
   "outputs": [],
   "source": [
    "def learn(self, experiences):\n",
    "        states = torch.tensor([experience.state for experience in experiences])\n",
    "    \n",
    "        actions = torch.tensor([experience.action for experience in experineces])\n",
    "    \n",
    "        rewards = torch.tensor([experience.reward for experience in experiences])\n",
    "    \n",
    "        next_states = torch.tensor([experience.next_state for experience in experiences])\n",
    "    \n",
    "        dones = torch.tensor([experience.done for experience in experiences])\n",
    "    \n",
    "        current_q_values = self.model(states)\n",
    "    \n",
    "        next_q_values = self.model(next_states)\n",
    "    \n",
    "        target_q_values = current_q_values.copy()\n",
    "    \n",
    "        for i in range(len(experiences)):\n",
    "            if dones[i]:\n",
    "                target_q_values[i, actions[i]] = rewards[i]\n",
    "            else:\n",
    "                target_q_values[i, actions[i]] = rewards[i] + self.gamma * np.max(next_q_values[i])"
   ]
  }
 ],
 "metadata": {
  "kernelspec": {
   "display_name": "Python 3 (ipykernel)",
   "language": "python",
   "name": "python3"
  },
  "language_info": {
   "codemirror_mode": {
    "name": "ipython",
    "version": 3
   },
   "file_extension": ".py",
   "mimetype": "text/x-python",
   "name": "python",
   "nbconvert_exporter": "python",
   "pygments_lexer": "ipython3",
   "version": "3.11.7"
  }
 },
 "nbformat": 4,
 "nbformat_minor": 5
}
