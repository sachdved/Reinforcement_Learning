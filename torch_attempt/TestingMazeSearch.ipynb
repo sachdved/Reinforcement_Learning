{
 "cells": [
  {
   "cell_type": "code",
   "execution_count": 1,
   "id": "17fa133a-34ea-4db5-93ea-04d6d2c1a220",
   "metadata": {},
   "outputs": [],
   "source": [
    "import torch\n",
    "import numpy\n",
    "import matplotlib.pyplot as plt\n",
    "from tqdm import tqdm\n",
    "\n",
    "from environment import Environment\n",
    "from agent import Agent\n",
    "from experiencereplay import ExperienceReplay\n",
    "\n",
    "vs_environment = Environment(grid_size = 10, render_on = False)\n",
    "\n",
    "vs_environment.reset()\n",
    "\n",
    "vs_agent = Agent(grid_size = 10, epsilon_end=0.0001)\n",
    "\n",
    "experience_replay = ExperienceReplay(capacity=10000, batch_size=32)\n"
   ]
  },
  {
   "cell_type": "code",
   "execution_count": 2,
   "id": "ad0ecdab-d9de-45f4-aec2-60f7b0a733eb",
   "metadata": {},
   "outputs": [
    {
     "name": "stderr",
     "output_type": "stream",
     "text": [
      "100%|█████████████████████████████████████████████████████████████████████████████████████████████████████████████████████████████████████████████████████████████████████| 5000/5000 [2:12:40<00:00,  1.59s/it]\n"
     ]
    }
   ],
   "source": [
    "episodes = 5000\n",
    "max_steps = 200\n",
    "\n",
    "\n",
    "optimizer = torch.optim.SGD(vs_agent.model.parameters(), lr=0.001, momentum=0.9)\n",
    "\n",
    "\n",
    "for episode in tqdm(range(episodes)):\n",
    "\n",
    "    state = vs_environment.reset()\n",
    "    for step in range(max_steps):\n",
    "        \n",
    "        #print('Episode: ', episode)\n",
    "        #print('Step: ', step)\n",
    "        #print('Epsilon: ', vs_agent.epsilon)\n",
    "\n",
    "        \n",
    "        action = vs_agent.get_action(state)\n",
    "        stored_state = state.clone()\n",
    "        next_state, reward, done = vs_environment.step(action)\n",
    "        experience_replay.add_experience(stored_state, action.clone(), reward.clone(), next_state.clone(), done.clone())\n",
    "\n",
    "        if experience_replay.can_provide_sample():\n",
    "            optimizer.zero_grad()\n",
    "            \n",
    "            experiences = experience_replay.sample_batch()\n",
    "            states = torch.stack([experience.state for experience in experiences])\n",
    "    \n",
    "            actions = torch.stack([experience.action for experience in experiences])\n",
    "        \n",
    "            rewards = torch.stack([experience.reward for experience in experiences])\n",
    "        \n",
    "            next_states = torch.stack([experience.next_state for experience in experiences])\n",
    "        \n",
    "            dones = torch.stack([experience.done for experience in experiences])\n",
    "        \n",
    "            current_q_values = vs_agent.model(states)\n",
    "        \n",
    "            next_q_values = vs_agent.model(next_states)\n",
    "        \n",
    "            target_q_values = current_q_values.clone()\n",
    "        \n",
    "            for i in range(len(experiences)):\n",
    "                if dones[i]:\n",
    "                    target_q_values[i, actions[i]] = rewards[i]\n",
    "                else:\n",
    "                    target_q_values[i, actions[i]] = rewards[i] + vs_agent.gamma * torch.max(next_q_values[i])\n",
    "\n",
    "            \n",
    "            loss = torch.mean((current_q_values - target_q_values) ** 2)\n",
    "            loss.backward()\n",
    "            optimizer.step()\n",
    "            \n",
    "        \n",
    "        if done:\n",
    "            break\n",
    "        state = next_state    \n",
    "            "
   ]
  },
  {
   "cell_type": "code",
   "execution_count": 20,
   "id": "088b50a2-264c-444c-b2e9-e5fb65eb7d9c",
   "metadata": {},
   "outputs": [
    {
     "data": {
      "text/plain": [
       "tensor([60.4778, 50.9429, 59.1012, 43.3356], grad_fn=<SelectBackward0>)"
      ]
     },
     "execution_count": 20,
     "metadata": {},
     "output_type": "execute_result"
    }
   ],
   "source": [
    "current_q_values[8]"
   ]
  },
  {
   "cell_type": "code",
   "execution_count": 10,
   "id": "40805fee-89b5-4a17-9a89-637b150e9287",
   "metadata": {},
   "outputs": [
    {
     "data": {
      "text/plain": [
       "tensor([55.4483, 46.6800, 54.1654, 39.7022], grad_fn=<SelectBackward0>)"
      ]
     },
     "execution_count": 10,
     "metadata": {},
     "output_type": "execute_result"
    }
   ],
   "source": [
    "next_q_values[5]"
   ]
  },
  {
   "cell_type": "code",
   "execution_count": 21,
   "id": "0d9270d5-3dcc-4bad-bb1e-ce92c73ceb1b",
   "metadata": {},
   "outputs": [
    {
     "data": {
      "text/plain": [
       "tensor([60.5983, 50.9429, 59.1012, 43.3356], grad_fn=<SelectBackward0>)"
      ]
     },
     "execution_count": 21,
     "metadata": {},
     "output_type": "execute_result"
    }
   ],
   "source": [
    "target_q_values[8]"
   ]
  },
  {
   "cell_type": "code",
   "execution_count": 4,
   "id": "eb5d3950-40f4-4af0-9052-61820d73ce66",
   "metadata": {},
   "outputs": [
    {
     "data": {
      "text/plain": [
       "tensor([[ 0.,  0.,  0.,  0.,  0., -1.,  0.,  0.,  0.,  0.],\n",
       "        [ 0.,  0.,  0.,  0.,  0.,  0.,  1.,  0.,  0.,  0.],\n",
       "        [ 0.,  0.,  0.,  0.,  0.,  0.,  0.,  0.,  0.,  0.],\n",
       "        [ 0.,  0.,  0.,  0.,  0.,  0.,  0.,  0.,  0.,  0.],\n",
       "        [ 0.,  0.,  0.,  0.,  0.,  0.,  0.,  0.,  0.,  0.],\n",
       "        [ 0.,  0.,  0.,  0.,  0.,  0.,  0.,  0.,  0.,  0.],\n",
       "        [ 0.,  0.,  0.,  0.,  0.,  0.,  0.,  0.,  0.,  0.],\n",
       "        [ 0.,  0.,  0.,  0.,  0.,  0.,  0.,  0.,  0.,  0.],\n",
       "        [ 0.,  0.,  0.,  0.,  0.,  0.,  0.,  0.,  0.,  0.],\n",
       "        [ 0.,  0.,  0.,  0.,  0.,  0.,  0.,  0.,  0.,  0.]])"
      ]
     },
     "execution_count": 4,
     "metadata": {},
     "output_type": "execute_result"
    }
   ],
   "source": [
    "states[0].view(10,10)"
   ]
  },
  {
   "cell_type": "code",
   "execution_count": 23,
   "id": "8d0fc3c3-6fc4-4d69-8cd4-8c09c807cce7",
   "metadata": {},
   "outputs": [
    {
     "data": {
      "text/plain": [
       "tensor([[ 0.,  0.,  0.,  0.,  0.,  0.,  0.,  0.,  0.,  0.],\n",
       "        [ 0.,  0.,  0.,  0.,  0.,  0.,  0.,  0.,  0.,  0.],\n",
       "        [ 0.,  0.,  0.,  0.,  0.,  0.,  0.,  0.,  0.,  0.],\n",
       "        [ 0.,  0.,  0.,  0.,  0.,  0.,  0.,  0.,  0.,  0.],\n",
       "        [ 0.,  0.,  0.,  0.,  0.,  0.,  0.,  0.,  0.,  0.],\n",
       "        [ 0.,  0.,  0.,  0.,  0.,  0.,  0.,  0.,  0.,  0.],\n",
       "        [-1.,  0.,  0.,  0.,  0.,  0.,  0.,  0.,  0.,  0.],\n",
       "        [ 0.,  0.,  0.,  0.,  0.,  0.,  1.,  0.,  0.,  0.],\n",
       "        [ 0.,  0.,  0.,  0.,  0.,  0.,  0.,  0.,  0.,  0.],\n",
       "        [ 0.,  0.,  0.,  0.,  0.,  0.,  0.,  0.,  0.,  0.]])"
      ]
     },
     "execution_count": 23,
     "metadata": {},
     "output_type": "execute_result"
    }
   ],
   "source": [
    "next_states[8].view(10,10)"
   ]
  },
  {
   "cell_type": "code",
   "execution_count": 5,
   "id": "a769391b-4b8e-4ae4-b100-4ded3126a26e",
   "metadata": {},
   "outputs": [],
   "source": [
    "states = [experience.state for experience in experience_replay.memory]"
   ]
  },
  {
   "cell_type": "code",
   "execution_count": 6,
   "id": "13f6599b-cfe6-4b24-8e44-4a573105b598",
   "metadata": {},
   "outputs": [],
   "source": [
    "next_states = [experience.next_state for experience in experience_replay.memory]"
   ]
  },
  {
   "cell_type": "code",
   "execution_count": 7,
   "id": "0ba3829b-d36c-485d-84ab-96e406902e89",
   "metadata": {},
   "outputs": [],
   "source": [
    "actions = [experience.action for experience in experience_replay.memory]"
   ]
  },
  {
   "cell_type": "code",
   "execution_count": 8,
   "id": "1c775fbd-724d-4905-999b-28dabce69f8f",
   "metadata": {},
   "outputs": [],
   "source": [
    "rewards = [experience.reward for experience in experience_replay.memory]"
   ]
  },
  {
   "cell_type": "code",
   "execution_count": 73,
   "id": "121b4b15-0c29-4b20-918b-2d3269bd2089",
   "metadata": {},
   "outputs": [
    {
     "data": {
      "text/plain": [
       "tensor([[ 0.,  0.,  0.,  0.,  0.,  0.,  0.,  0.,  0.,  0.],\n",
       "        [ 0.,  0.,  0.,  0.,  0.,  0.,  0.,  0.,  0.,  0.],\n",
       "        [ 0.,  0.,  0.,  0.,  0.,  0.,  0.,  0.,  0.,  0.],\n",
       "        [ 0.,  0.,  0.,  0.,  0.,  0.,  0.,  0.,  0.,  0.],\n",
       "        [ 0.,  0.,  0.,  0.,  0.,  0.,  0.,  0.,  0.,  0.],\n",
       "        [ 0.,  0.,  0.,  0., -1.,  0.,  0.,  0.,  0.,  0.],\n",
       "        [ 0.,  1.,  0.,  0.,  0.,  0.,  0.,  0.,  0.,  0.],\n",
       "        [ 0.,  0.,  0.,  0.,  0.,  0.,  0.,  0.,  0.,  0.],\n",
       "        [ 0.,  0.,  0.,  0.,  0.,  0.,  0.,  0.,  0.,  0.],\n",
       "        [ 0.,  0.,  0.,  0.,  0.,  0.,  0.,  0.,  0.,  0.]])"
      ]
     },
     "execution_count": 73,
     "metadata": {},
     "output_type": "execute_result"
    }
   ],
   "source": [
    "states[38].view(10,10)"
   ]
  },
  {
   "cell_type": "code",
   "execution_count": 72,
   "id": "8cfa87e7-1f78-45b0-b48c-e0bbe8ce4eb2",
   "metadata": {},
   "outputs": [
    {
     "data": {
      "text/plain": [
       "tensor([[0., 0., 0., 0., 0., 0., 0., 0., 0., 0.],\n",
       "        [0., 0., 0., 0., 0., 0., 0., 0., 0., 0.],\n",
       "        [0., 0., 0., 0., 0., 0., 0., 0., 0., 0.],\n",
       "        [0., 0., 0., 0., 0., 0., 1., 0., 0., 0.],\n",
       "        [0., 0., 0., 0., 0., 0., 0., 0., 0., 0.],\n",
       "        [0., 0., 0., 0., 0., 0., 0., 0., 0., 0.],\n",
       "        [0., 0., 0., 0., 0., 0., 0., 0., 0., 0.],\n",
       "        [0., 0., 0., 0., 0., 0., 0., 0., 0., 0.],\n",
       "        [0., 0., 0., 0., 0., 0., 0., 0., 0., 0.],\n",
       "        [0., 0., 0., 0., 0., 0., 0., 0., 0., 0.]])"
      ]
     },
     "execution_count": 72,
     "metadata": {},
     "output_type": "execute_result"
    }
   ],
   "source": [
    "next_states[37].view(10,10)"
   ]
  },
  {
   "cell_type": "code",
   "execution_count": 63,
   "id": "87be62e8-d1dc-473c-a19d-0bdcd88a441e",
   "metadata": {},
   "outputs": [
    {
     "data": {
      "text/plain": [
       "tensor([[ 0.,  0.,  0.,  0.,  0.,  0.,  0.,  0.,  0.,  0.],\n",
       "        [ 0.,  0.,  0.,  0.,  0.,  0.,  0.,  0.,  0.,  0.],\n",
       "        [ 0.,  0.,  0.,  0.,  0.,  0.,  0.,  0.,  0.,  0.],\n",
       "        [ 0.,  0.,  0.,  0.,  0.,  0., -1.,  0.,  0.,  0.],\n",
       "        [ 0.,  0.,  0.,  0.,  0.,  0.,  0.,  0.,  0.,  0.],\n",
       "        [ 0.,  0.,  0.,  0.,  0.,  0.,  0.,  0.,  0.,  0.],\n",
       "        [ 0.,  0.,  0.,  0.,  0.,  0.,  0.,  0.,  0.,  0.],\n",
       "        [ 0.,  0.,  0.,  1.,  0.,  0.,  0.,  0.,  0.,  0.],\n",
       "        [ 0.,  0.,  0.,  0.,  0.,  0.,  0.,  0.,  0.,  0.],\n",
       "        [ 0.,  0.,  0.,  0.,  0.,  0.,  0.,  0.,  0.,  0.]])"
      ]
     },
     "execution_count": 63,
     "metadata": {},
     "output_type": "execute_result"
    }
   ],
   "source": [
    "states[31].view(10,10)"
   ]
  },
  {
   "cell_type": "code",
   "execution_count": 58,
   "id": "741e62ea-1c56-4616-b375-59d87b613b82",
   "metadata": {},
   "outputs": [
    {
     "data": {
      "text/plain": [
       "tensor([[0., 0., 0., 0., 0., 0., 0., 0., 0., 0.],\n",
       "        [0., 0., 1., 0., 0., 0., 0., 0., 0., 0.],\n",
       "        [0., 0., 0., 0., 0., 0., 0., 0., 0., 0.],\n",
       "        [0., 0., 0., 0., 0., 0., 0., 0., 0., 0.],\n",
       "        [0., 0., 0., 0., 0., 0., 0., 0., 0., 0.],\n",
       "        [0., 0., 0., 0., 0., 0., 0., 0., 0., 0.],\n",
       "        [0., 0., 0., 0., 0., 0., 0., 0., 0., 0.],\n",
       "        [0., 0., 0., 0., 0., 0., 0., 0., 0., 0.],\n",
       "        [0., 0., 0., 0., 0., 0., 0., 0., 0., 0.],\n",
       "        [0., 0., 0., 0., 0., 0., 0., 0., 0., 0.]])"
      ]
     },
     "execution_count": 58,
     "metadata": {},
     "output_type": "execute_result"
    }
   ],
   "source": [
    "next_states[28].view(10,10)"
   ]
  },
  {
   "cell_type": "code",
   "execution_count": 52,
   "id": "333b3deb-557a-4361-82ee-3be65d18c700",
   "metadata": {},
   "outputs": [
    {
     "data": {
      "text/plain": [
       "tensor([[0., 0., 0., 0., 0., 0., 0., 0., 0., 0.],\n",
       "        [0., 0., 1., 0., 0., 0., 0., 0., 0., 0.],\n",
       "        [0., 0., 0., 0., 0., 0., 0., 0., 0., 0.],\n",
       "        [0., 0., 0., 0., 0., 0., 0., 0., 0., 0.],\n",
       "        [0., 0., 0., 0., 0., 0., 0., 0., 0., 0.],\n",
       "        [0., 0., 0., 0., 0., 0., 0., 0., 0., 0.],\n",
       "        [0., 0., 0., 0., 0., 0., 0., 0., 0., 0.],\n",
       "        [0., 0., 0., 0., 0., 0., 0., 0., 0., 0.],\n",
       "        [0., 0., 0., 0., 0., 0., 0., 0., 0., 0.],\n",
       "        [0., 0., 0., 0., 0., 0., 0., 0., 0., 0.]])"
      ]
     },
     "execution_count": 52,
     "metadata": {},
     "output_type": "execute_result"
    }
   ],
   "source": [
    "next_states[28].view(10,10)"
   ]
  },
  {
   "cell_type": "code",
   "execution_count": 70,
   "id": "07e2574c-8895-4f57-826f-87d760c4eafb",
   "metadata": {
    "scrolled": true
   },
   "outputs": [
    {
     "data": {
      "text/plain": [
       "tensor([[ 0.,  0.,  0.,  0.,  0.,  0.,  0.,  0.,  0.,  0.],\n",
       "        [ 0.,  0.,  0.,  0.,  0.,  0.,  1.,  0.,  0.,  0.],\n",
       "        [ 0., -1.,  0.,  0.,  0.,  0.,  0.,  0.,  0.,  0.],\n",
       "        [ 0.,  0.,  0.,  0.,  0.,  0.,  0.,  0.,  0.,  0.],\n",
       "        [ 0.,  0.,  0.,  0.,  0.,  0.,  0.,  0.,  0.,  0.],\n",
       "        [ 0.,  0.,  0.,  0.,  0.,  0.,  0.,  0.,  0.,  0.],\n",
       "        [ 0.,  0.,  0.,  0.,  0.,  0.,  0.,  0.,  0.,  0.],\n",
       "        [ 0.,  0.,  0.,  0.,  0.,  0.,  0.,  0.,  0.,  0.],\n",
       "        [ 0.,  0.,  0.,  0.,  0.,  0.,  0.,  0.,  0.,  0.],\n",
       "        [ 0.,  0.,  0.,  0.,  0.,  0.,  0.,  0.,  0.,  0.]])"
      ]
     },
     "execution_count": 70,
     "metadata": {},
     "output_type": "execute_result"
    }
   ],
   "source": [
    "states[-2].view(10,10)"
   ]
  },
  {
   "cell_type": "code",
   "execution_count": 71,
   "id": "882279ce-d473-4d5d-bbf6-23916f982ac9",
   "metadata": {},
   "outputs": [
    {
     "data": {
      "text/plain": [
       "tensor([[ 0.,  0.,  0.,  0.,  0.,  0.,  1.,  0.,  0.,  0.],\n",
       "        [ 0.,  0.,  0.,  0.,  0.,  0.,  0.,  0.,  0.,  0.],\n",
       "        [ 0., -1.,  0.,  0.,  0.,  0.,  0.,  0.,  0.,  0.],\n",
       "        [ 0.,  0.,  0.,  0.,  0.,  0.,  0.,  0.,  0.,  0.],\n",
       "        [ 0.,  0.,  0.,  0.,  0.,  0.,  0.,  0.,  0.,  0.],\n",
       "        [ 0.,  0.,  0.,  0.,  0.,  0.,  0.,  0.,  0.,  0.],\n",
       "        [ 0.,  0.,  0.,  0.,  0.,  0.,  0.,  0.,  0.,  0.],\n",
       "        [ 0.,  0.,  0.,  0.,  0.,  0.,  0.,  0.,  0.,  0.],\n",
       "        [ 0.,  0.,  0.,  0.,  0.,  0.,  0.,  0.,  0.,  0.],\n",
       "        [ 0.,  0.,  0.,  0.,  0.,  0.,  0.,  0.,  0.,  0.]])"
      ]
     },
     "execution_count": 71,
     "metadata": {},
     "output_type": "execute_result"
    }
   ],
   "source": [
    "next_states[-2].view(10,10)"
   ]
  },
  {
   "cell_type": "code",
   "execution_count": 72,
   "id": "dc17a055-02e5-4636-b20f-70b037503399",
   "metadata": {},
   "outputs": [
    {
     "data": {
      "text/plain": [
       "tensor([65.2330, 54.9592, 63.7714, 46.7590], grad_fn=<ViewBackward0>)"
      ]
     },
     "execution_count": 72,
     "metadata": {},
     "output_type": "execute_result"
    }
   ],
   "source": [
    "vs_agent.model(states[-2])"
   ]
  },
  {
   "cell_type": "code",
   "execution_count": 11,
   "id": "690a4efe-a0a0-48a6-8272-52d7fbb8bba1",
   "metadata": {},
   "outputs": [
    {
     "data": {
      "text/plain": [
       "tensor(3)"
      ]
     },
     "execution_count": 11,
     "metadata": {},
     "output_type": "execute_result"
    }
   ],
   "source": []
  },
  {
   "cell_type": "code",
   "execution_count": 10,
   "id": "dacd1fa5-8407-466d-98fc-7c3f9365e7fc",
   "metadata": {
    "scrolled": true
   },
   "outputs": [
    {
     "data": {
      "text/plain": [
       "tensor([[0.1495, 0.0890, 0.1665, 0.5950],\n",
       "        [0.1495, 0.0890, 0.1665, 0.5950],\n",
       "        [0.1500, 0.0878, 0.1595, 0.6027],\n",
       "        ...,\n",
       "        [0.1409, 0.0745, 0.1471, 0.6375],\n",
       "        [0.1409, 0.0745, 0.1471, 0.6375],\n",
       "        [0.1409, 0.0745, 0.1471, 0.6375]], grad_fn=<SoftmaxBackward0>)"
      ]
     },
     "execution_count": 10,
     "metadata": {},
     "output_type": "execute_result"
    }
   ],
   "source": [
    "vs_agent.model(torch.stack(states))"
   ]
  },
  {
   "cell_type": "code",
   "execution_count": 17,
   "id": "a0b4fb9e-0f02-4108-a369-b89f2516a25f",
   "metadata": {},
   "outputs": [
    {
     "data": {
      "text/plain": [
       "tensor([[ 0.,  0.,  0.,  0.,  0.,  0.,  0.,  0.,  0.,  0.],\n",
       "        [ 0.,  1.,  0.,  0.,  0.,  0.,  0.,  0.,  0.,  0.],\n",
       "        [ 0.,  0.,  0.,  0.,  0.,  0.,  0.,  0.,  0.,  0.],\n",
       "        [ 0.,  0.,  0.,  0.,  0.,  0.,  0.,  0.,  0.,  0.],\n",
       "        [ 0.,  0.,  0.,  0.,  0.,  0.,  0.,  0.,  0.,  0.],\n",
       "        [ 0.,  0.,  0.,  0.,  0., -1.,  0.,  0.,  0.,  0.],\n",
       "        [ 0.,  0.,  0.,  0.,  0.,  0.,  0.,  0.,  0.,  0.],\n",
       "        [ 0.,  0.,  0.,  0.,  0.,  0.,  0.,  0.,  0.,  0.],\n",
       "        [ 0.,  0.,  0.,  0.,  0.,  0.,  0.,  0.,  0.,  0.],\n",
       "        [ 0.,  0.,  0.,  0.,  0.,  0.,  0.,  0.,  0.,  0.]])"
      ]
     },
     "execution_count": 17,
     "metadata": {},
     "output_type": "execute_result"
    }
   ],
   "source": [
    "next_states[5].view(10,10)"
   ]
  },
  {
   "cell_type": "code",
   "execution_count": 8,
   "id": "262b5398-81e0-4d56-a2b5-d481d8b2fe0c",
   "metadata": {},
   "outputs": [
    {
     "data": {
      "text/plain": [
       "tensor([2])"
      ]
     },
     "execution_count": 8,
     "metadata": {},
     "output_type": "execute_result"
    }
   ],
   "source": [
    "actions = experience"
   ]
  },
  {
   "cell_type": "code",
   "execution_count": null,
   "id": "6373bad9-f997-445a-9254-c630335c8d87",
   "metadata": {},
   "outputs": [],
   "source": [
    "def learn(self, experiences):\n",
    "        states = torch.tensor([experience.state for experience in experiences])\n",
    "    \n",
    "        actions = torch.tensor([experience.action for experience in experineces])\n",
    "    \n",
    "        rewards = torch.tensor([experience.reward for experience in experiences])\n",
    "    \n",
    "        next_states = torch.tensor([experience.next_state for experience in experiences])\n",
    "    \n",
    "        dones = torch.tensor([experience.done for experience in experiences])\n",
    "    \n",
    "        current_q_values = self.model(states)\n",
    "    \n",
    "        next_q_values = self.model(next_states)\n",
    "    \n",
    "        target_q_values = current_q_values.copy()\n",
    "    \n",
    "        for i in range(len(experiences)):\n",
    "            if dones[i]:\n",
    "                target_q_values[i, actions[i]] = rewards[i]\n",
    "            else:\n",
    "                target_q_values[i, actions[i]] = rewards[i] + self.gamma * np.max(next_q_values[i])"
   ]
  }
 ],
 "metadata": {
  "kernelspec": {
   "display_name": "Python 3 (ipykernel)",
   "language": "python",
   "name": "python3"
  },
  "language_info": {
   "codemirror_mode": {
    "name": "ipython",
    "version": 3
   },
   "file_extension": ".py",
   "mimetype": "text/x-python",
   "name": "python",
   "nbconvert_exporter": "python",
   "pygments_lexer": "ipython3",
   "version": "3.11.7"
  }
 },
 "nbformat": 4,
 "nbformat_minor": 5
}
